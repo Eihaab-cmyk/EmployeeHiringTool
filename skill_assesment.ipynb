{
 "cells": [
  {
   "cell_type": "code",
   "execution_count": 359,
   "metadata": {},
   "outputs": [],
   "source": [
    "import pandas as pd\n",
    "import matplotlib.pyplot as plt\n",
    "\n",
    "df = pd.read_csv(\"survey_results_public.csv\")"
   ]
  },
  {
   "cell_type": "code",
   "execution_count": 360,
   "metadata": {},
   "outputs": [
    {
     "data": {
      "text/html": [
       "<div>\n",
       "<style scoped>\n",
       "    .dataframe tbody tr th:only-of-type {\n",
       "        vertical-align: middle;\n",
       "    }\n",
       "\n",
       "    .dataframe tbody tr th {\n",
       "        vertical-align: top;\n",
       "    }\n",
       "\n",
       "    .dataframe thead th {\n",
       "        text-align: right;\n",
       "    }\n",
       "</style>\n",
       "<table border=\"1\" class=\"dataframe\">\n",
       "  <thead>\n",
       "    <tr style=\"text-align: right;\">\n",
       "      <th></th>\n",
       "      <th>Respondent</th>\n",
       "      <th>MainBranch</th>\n",
       "      <th>Hobbyist</th>\n",
       "      <th>Age</th>\n",
       "      <th>Age1stCode</th>\n",
       "      <th>CompFreq</th>\n",
       "      <th>CompTotal</th>\n",
       "      <th>ConvertedComp</th>\n",
       "      <th>Country</th>\n",
       "      <th>CurrencyDesc</th>\n",
       "      <th>...</th>\n",
       "      <th>SurveyEase</th>\n",
       "      <th>SurveyLength</th>\n",
       "      <th>Trans</th>\n",
       "      <th>UndergradMajor</th>\n",
       "      <th>WebframeDesireNextYear</th>\n",
       "      <th>WebframeWorkedWith</th>\n",
       "      <th>WelcomeChange</th>\n",
       "      <th>WorkWeekHrs</th>\n",
       "      <th>YearsCode</th>\n",
       "      <th>YearsCodePro</th>\n",
       "    </tr>\n",
       "  </thead>\n",
       "  <tbody>\n",
       "    <tr>\n",
       "      <th>0</th>\n",
       "      <td>1</td>\n",
       "      <td>I am a developer by profession</td>\n",
       "      <td>Yes</td>\n",
       "      <td>NaN</td>\n",
       "      <td>13</td>\n",
       "      <td>Monthly</td>\n",
       "      <td>NaN</td>\n",
       "      <td>NaN</td>\n",
       "      <td>Germany</td>\n",
       "      <td>European Euro</td>\n",
       "      <td>...</td>\n",
       "      <td>Neither easy nor difficult</td>\n",
       "      <td>Appropriate in length</td>\n",
       "      <td>No</td>\n",
       "      <td>Computer science, computer engineering, or sof...</td>\n",
       "      <td>ASP.NET Core</td>\n",
       "      <td>ASP.NET;ASP.NET Core</td>\n",
       "      <td>Just as welcome now as I felt last year</td>\n",
       "      <td>50.0</td>\n",
       "      <td>36</td>\n",
       "      <td>27</td>\n",
       "    </tr>\n",
       "    <tr>\n",
       "      <th>1</th>\n",
       "      <td>2</td>\n",
       "      <td>I am a developer by profession</td>\n",
       "      <td>No</td>\n",
       "      <td>NaN</td>\n",
       "      <td>19</td>\n",
       "      <td>NaN</td>\n",
       "      <td>NaN</td>\n",
       "      <td>NaN</td>\n",
       "      <td>United Kingdom</td>\n",
       "      <td>Pound sterling</td>\n",
       "      <td>...</td>\n",
       "      <td>NaN</td>\n",
       "      <td>NaN</td>\n",
       "      <td>NaN</td>\n",
       "      <td>Computer science, computer engineering, or sof...</td>\n",
       "      <td>NaN</td>\n",
       "      <td>NaN</td>\n",
       "      <td>Somewhat more welcome now than last year</td>\n",
       "      <td>NaN</td>\n",
       "      <td>7</td>\n",
       "      <td>4</td>\n",
       "    </tr>\n",
       "    <tr>\n",
       "      <th>2</th>\n",
       "      <td>3</td>\n",
       "      <td>I code primarily as a hobby</td>\n",
       "      <td>Yes</td>\n",
       "      <td>NaN</td>\n",
       "      <td>15</td>\n",
       "      <td>NaN</td>\n",
       "      <td>NaN</td>\n",
       "      <td>NaN</td>\n",
       "      <td>Russian Federation</td>\n",
       "      <td>NaN</td>\n",
       "      <td>...</td>\n",
       "      <td>Neither easy nor difficult</td>\n",
       "      <td>Appropriate in length</td>\n",
       "      <td>NaN</td>\n",
       "      <td>NaN</td>\n",
       "      <td>NaN</td>\n",
       "      <td>NaN</td>\n",
       "      <td>Somewhat more welcome now than last year</td>\n",
       "      <td>NaN</td>\n",
       "      <td>4</td>\n",
       "      <td>NaN</td>\n",
       "    </tr>\n",
       "    <tr>\n",
       "      <th>3</th>\n",
       "      <td>4</td>\n",
       "      <td>I am a developer by profession</td>\n",
       "      <td>Yes</td>\n",
       "      <td>25.0</td>\n",
       "      <td>18</td>\n",
       "      <td>NaN</td>\n",
       "      <td>NaN</td>\n",
       "      <td>NaN</td>\n",
       "      <td>Albania</td>\n",
       "      <td>Albanian lek</td>\n",
       "      <td>...</td>\n",
       "      <td>NaN</td>\n",
       "      <td>NaN</td>\n",
       "      <td>No</td>\n",
       "      <td>Computer science, computer engineering, or sof...</td>\n",
       "      <td>NaN</td>\n",
       "      <td>NaN</td>\n",
       "      <td>Somewhat less welcome now than last year</td>\n",
       "      <td>40.0</td>\n",
       "      <td>7</td>\n",
       "      <td>4</td>\n",
       "    </tr>\n",
       "    <tr>\n",
       "      <th>4</th>\n",
       "      <td>5</td>\n",
       "      <td>I used to be a developer by profession, but no...</td>\n",
       "      <td>Yes</td>\n",
       "      <td>31.0</td>\n",
       "      <td>16</td>\n",
       "      <td>NaN</td>\n",
       "      <td>NaN</td>\n",
       "      <td>NaN</td>\n",
       "      <td>United States</td>\n",
       "      <td>NaN</td>\n",
       "      <td>...</td>\n",
       "      <td>Easy</td>\n",
       "      <td>Too short</td>\n",
       "      <td>No</td>\n",
       "      <td>Computer science, computer engineering, or sof...</td>\n",
       "      <td>Django;Ruby on Rails</td>\n",
       "      <td>Ruby on Rails</td>\n",
       "      <td>Just as welcome now as I felt last year</td>\n",
       "      <td>NaN</td>\n",
       "      <td>15</td>\n",
       "      <td>8</td>\n",
       "    </tr>\n",
       "  </tbody>\n",
       "</table>\n",
       "<p>5 rows × 61 columns</p>\n",
       "</div>"
      ],
      "text/plain": [
       "   Respondent                                         MainBranch Hobbyist  \\\n",
       "0           1                     I am a developer by profession      Yes   \n",
       "1           2                     I am a developer by profession       No   \n",
       "2           3                        I code primarily as a hobby      Yes   \n",
       "3           4                     I am a developer by profession      Yes   \n",
       "4           5  I used to be a developer by profession, but no...      Yes   \n",
       "\n",
       "    Age Age1stCode CompFreq  CompTotal  ConvertedComp             Country  \\\n",
       "0   NaN         13  Monthly        NaN            NaN             Germany   \n",
       "1   NaN         19      NaN        NaN            NaN      United Kingdom   \n",
       "2   NaN         15      NaN        NaN            NaN  Russian Federation   \n",
       "3  25.0         18      NaN        NaN            NaN             Albania   \n",
       "4  31.0         16      NaN        NaN            NaN       United States   \n",
       "\n",
       "     CurrencyDesc  ...                  SurveyEase           SurveyLength  \\\n",
       "0   European Euro  ...  Neither easy nor difficult  Appropriate in length   \n",
       "1  Pound sterling  ...                         NaN                    NaN   \n",
       "2             NaN  ...  Neither easy nor difficult  Appropriate in length   \n",
       "3    Albanian lek  ...                         NaN                    NaN   \n",
       "4             NaN  ...                        Easy              Too short   \n",
       "\n",
       "  Trans                                     UndergradMajor  \\\n",
       "0    No  Computer science, computer engineering, or sof...   \n",
       "1   NaN  Computer science, computer engineering, or sof...   \n",
       "2   NaN                                                NaN   \n",
       "3    No  Computer science, computer engineering, or sof...   \n",
       "4    No  Computer science, computer engineering, or sof...   \n",
       "\n",
       "  WebframeDesireNextYear    WebframeWorkedWith  \\\n",
       "0           ASP.NET Core  ASP.NET;ASP.NET Core   \n",
       "1                    NaN                   NaN   \n",
       "2                    NaN                   NaN   \n",
       "3                    NaN                   NaN   \n",
       "4   Django;Ruby on Rails         Ruby on Rails   \n",
       "\n",
       "                              WelcomeChange WorkWeekHrs YearsCode YearsCodePro  \n",
       "0   Just as welcome now as I felt last year        50.0        36           27  \n",
       "1  Somewhat more welcome now than last year         NaN         7            4  \n",
       "2  Somewhat more welcome now than last year         NaN         4          NaN  \n",
       "3  Somewhat less welcome now than last year        40.0         7            4  \n",
       "4   Just as welcome now as I felt last year         NaN        15            8  \n",
       "\n",
       "[5 rows x 61 columns]"
      ]
     },
     "execution_count": 360,
     "metadata": {},
     "output_type": "execute_result"
    }
   ],
   "source": [
    "df.head()"
   ]
  },
  {
   "cell_type": "code",
   "execution_count": 361,
   "metadata": {},
   "outputs": [],
   "source": [
    "df['DB'] = df['DatabaseWorkedWith']\n",
    "df['Language'] = df['LanguageWorkedWith']\n",
    "df['DevType'] = df['DevType']\n",
    "df['Technology'] = df['MiscTechWorkedWith']"
   ]
  },
  {
   "cell_type": "code",
   "execution_count": 362,
   "metadata": {},
   "outputs": [
    {
     "data": {
      "text/html": [
       "<div>\n",
       "<style scoped>\n",
       "    .dataframe tbody tr th:only-of-type {\n",
       "        vertical-align: middle;\n",
       "    }\n",
       "\n",
       "    .dataframe tbody tr th {\n",
       "        vertical-align: top;\n",
       "    }\n",
       "\n",
       "    .dataframe thead th {\n",
       "        text-align: right;\n",
       "    }\n",
       "</style>\n",
       "<table border=\"1\" class=\"dataframe\">\n",
       "  <thead>\n",
       "    <tr style=\"text-align: right;\">\n",
       "      <th></th>\n",
       "      <th>Respondent</th>\n",
       "      <th>MainBranch</th>\n",
       "      <th>Hobbyist</th>\n",
       "      <th>Age</th>\n",
       "      <th>Age1stCode</th>\n",
       "      <th>CompFreq</th>\n",
       "      <th>CompTotal</th>\n",
       "      <th>ConvertedComp</th>\n",
       "      <th>Country</th>\n",
       "      <th>CurrencyDesc</th>\n",
       "      <th>...</th>\n",
       "      <th>UndergradMajor</th>\n",
       "      <th>WebframeDesireNextYear</th>\n",
       "      <th>WebframeWorkedWith</th>\n",
       "      <th>WelcomeChange</th>\n",
       "      <th>WorkWeekHrs</th>\n",
       "      <th>YearsCode</th>\n",
       "      <th>YearsCodePro</th>\n",
       "      <th>DB</th>\n",
       "      <th>Language</th>\n",
       "      <th>Technology</th>\n",
       "    </tr>\n",
       "  </thead>\n",
       "  <tbody>\n",
       "    <tr>\n",
       "      <th>0</th>\n",
       "      <td>1</td>\n",
       "      <td>I am a developer by profession</td>\n",
       "      <td>Yes</td>\n",
       "      <td>NaN</td>\n",
       "      <td>13</td>\n",
       "      <td>Monthly</td>\n",
       "      <td>NaN</td>\n",
       "      <td>NaN</td>\n",
       "      <td>Germany</td>\n",
       "      <td>European Euro</td>\n",
       "      <td>...</td>\n",
       "      <td>Computer science, computer engineering, or sof...</td>\n",
       "      <td>ASP.NET Core</td>\n",
       "      <td>ASP.NET;ASP.NET Core</td>\n",
       "      <td>Just as welcome now as I felt last year</td>\n",
       "      <td>50.0</td>\n",
       "      <td>36</td>\n",
       "      <td>27</td>\n",
       "      <td>Elasticsearch;Microsoft SQL Server;Oracle</td>\n",
       "      <td>C#;HTML/CSS;JavaScript</td>\n",
       "      <td>.NET;.NET Core</td>\n",
       "    </tr>\n",
       "    <tr>\n",
       "      <th>1</th>\n",
       "      <td>2</td>\n",
       "      <td>I am a developer by profession</td>\n",
       "      <td>No</td>\n",
       "      <td>NaN</td>\n",
       "      <td>19</td>\n",
       "      <td>NaN</td>\n",
       "      <td>NaN</td>\n",
       "      <td>NaN</td>\n",
       "      <td>United Kingdom</td>\n",
       "      <td>Pound sterling</td>\n",
       "      <td>...</td>\n",
       "      <td>Computer science, computer engineering, or sof...</td>\n",
       "      <td>NaN</td>\n",
       "      <td>NaN</td>\n",
       "      <td>Somewhat more welcome now than last year</td>\n",
       "      <td>NaN</td>\n",
       "      <td>7</td>\n",
       "      <td>4</td>\n",
       "      <td>NaN</td>\n",
       "      <td>JavaScript;Swift</td>\n",
       "      <td>React Native</td>\n",
       "    </tr>\n",
       "    <tr>\n",
       "      <th>2</th>\n",
       "      <td>3</td>\n",
       "      <td>I code primarily as a hobby</td>\n",
       "      <td>Yes</td>\n",
       "      <td>NaN</td>\n",
       "      <td>15</td>\n",
       "      <td>NaN</td>\n",
       "      <td>NaN</td>\n",
       "      <td>NaN</td>\n",
       "      <td>Russian Federation</td>\n",
       "      <td>NaN</td>\n",
       "      <td>...</td>\n",
       "      <td>NaN</td>\n",
       "      <td>NaN</td>\n",
       "      <td>NaN</td>\n",
       "      <td>Somewhat more welcome now than last year</td>\n",
       "      <td>NaN</td>\n",
       "      <td>4</td>\n",
       "      <td>NaN</td>\n",
       "      <td>NaN</td>\n",
       "      <td>Objective-C;Python;Swift</td>\n",
       "      <td>NaN</td>\n",
       "    </tr>\n",
       "    <tr>\n",
       "      <th>3</th>\n",
       "      <td>4</td>\n",
       "      <td>I am a developer by profession</td>\n",
       "      <td>Yes</td>\n",
       "      <td>25.0</td>\n",
       "      <td>18</td>\n",
       "      <td>NaN</td>\n",
       "      <td>NaN</td>\n",
       "      <td>NaN</td>\n",
       "      <td>Albania</td>\n",
       "      <td>Albanian lek</td>\n",
       "      <td>...</td>\n",
       "      <td>Computer science, computer engineering, or sof...</td>\n",
       "      <td>NaN</td>\n",
       "      <td>NaN</td>\n",
       "      <td>Somewhat less welcome now than last year</td>\n",
       "      <td>40.0</td>\n",
       "      <td>7</td>\n",
       "      <td>4</td>\n",
       "      <td>NaN</td>\n",
       "      <td>NaN</td>\n",
       "      <td>NaN</td>\n",
       "    </tr>\n",
       "    <tr>\n",
       "      <th>4</th>\n",
       "      <td>5</td>\n",
       "      <td>I used to be a developer by profession, but no...</td>\n",
       "      <td>Yes</td>\n",
       "      <td>31.0</td>\n",
       "      <td>16</td>\n",
       "      <td>NaN</td>\n",
       "      <td>NaN</td>\n",
       "      <td>NaN</td>\n",
       "      <td>United States</td>\n",
       "      <td>NaN</td>\n",
       "      <td>...</td>\n",
       "      <td>Computer science, computer engineering, or sof...</td>\n",
       "      <td>Django;Ruby on Rails</td>\n",
       "      <td>Ruby on Rails</td>\n",
       "      <td>Just as welcome now as I felt last year</td>\n",
       "      <td>NaN</td>\n",
       "      <td>15</td>\n",
       "      <td>8</td>\n",
       "      <td>MySQL;PostgreSQL;Redis;SQLite</td>\n",
       "      <td>HTML/CSS;Ruby;SQL</td>\n",
       "      <td>Ansible</td>\n",
       "    </tr>\n",
       "  </tbody>\n",
       "</table>\n",
       "<p>5 rows × 64 columns</p>\n",
       "</div>"
      ],
      "text/plain": [
       "   Respondent                                         MainBranch Hobbyist  \\\n",
       "0           1                     I am a developer by profession      Yes   \n",
       "1           2                     I am a developer by profession       No   \n",
       "2           3                        I code primarily as a hobby      Yes   \n",
       "3           4                     I am a developer by profession      Yes   \n",
       "4           5  I used to be a developer by profession, but no...      Yes   \n",
       "\n",
       "    Age Age1stCode CompFreq  CompTotal  ConvertedComp             Country  \\\n",
       "0   NaN         13  Monthly        NaN            NaN             Germany   \n",
       "1   NaN         19      NaN        NaN            NaN      United Kingdom   \n",
       "2   NaN         15      NaN        NaN            NaN  Russian Federation   \n",
       "3  25.0         18      NaN        NaN            NaN             Albania   \n",
       "4  31.0         16      NaN        NaN            NaN       United States   \n",
       "\n",
       "     CurrencyDesc  ...                                     UndergradMajor  \\\n",
       "0   European Euro  ...  Computer science, computer engineering, or sof...   \n",
       "1  Pound sterling  ...  Computer science, computer engineering, or sof...   \n",
       "2             NaN  ...                                                NaN   \n",
       "3    Albanian lek  ...  Computer science, computer engineering, or sof...   \n",
       "4             NaN  ...  Computer science, computer engineering, or sof...   \n",
       "\n",
       "  WebframeDesireNextYear    WebframeWorkedWith  \\\n",
       "0           ASP.NET Core  ASP.NET;ASP.NET Core   \n",
       "1                    NaN                   NaN   \n",
       "2                    NaN                   NaN   \n",
       "3                    NaN                   NaN   \n",
       "4   Django;Ruby on Rails         Ruby on Rails   \n",
       "\n",
       "                              WelcomeChange WorkWeekHrs YearsCode  \\\n",
       "0   Just as welcome now as I felt last year        50.0        36   \n",
       "1  Somewhat more welcome now than last year         NaN         7   \n",
       "2  Somewhat more welcome now than last year         NaN         4   \n",
       "3  Somewhat less welcome now than last year        40.0         7   \n",
       "4   Just as welcome now as I felt last year         NaN        15   \n",
       "\n",
       "  YearsCodePro                                         DB  \\\n",
       "0           27  Elasticsearch;Microsoft SQL Server;Oracle   \n",
       "1            4                                        NaN   \n",
       "2          NaN                                        NaN   \n",
       "3            4                                        NaN   \n",
       "4            8              MySQL;PostgreSQL;Redis;SQLite   \n",
       "\n",
       "                   Language      Technology  \n",
       "0    C#;HTML/CSS;JavaScript  .NET;.NET Core  \n",
       "1          JavaScript;Swift    React Native  \n",
       "2  Objective-C;Python;Swift             NaN  \n",
       "3                       NaN             NaN  \n",
       "4         HTML/CSS;Ruby;SQL         Ansible  \n",
       "\n",
       "[5 rows x 64 columns]"
      ]
     },
     "execution_count": 362,
     "metadata": {},
     "output_type": "execute_result"
    }
   ],
   "source": [
    "df.head()"
   ]
  },
  {
   "cell_type": "code",
   "execution_count": 363,
   "metadata": {},
   "outputs": [
    {
     "data": {
      "text/html": [
       "<div>\n",
       "<style scoped>\n",
       "    .dataframe tbody tr th:only-of-type {\n",
       "        vertical-align: middle;\n",
       "    }\n",
       "\n",
       "    .dataframe tbody tr th {\n",
       "        vertical-align: top;\n",
       "    }\n",
       "\n",
       "    .dataframe thead th {\n",
       "        text-align: right;\n",
       "    }\n",
       "</style>\n",
       "<table border=\"1\" class=\"dataframe\">\n",
       "  <thead>\n",
       "    <tr style=\"text-align: right;\">\n",
       "      <th></th>\n",
       "      <th>Country</th>\n",
       "      <th>EdLevel</th>\n",
       "      <th>YearsCodePro</th>\n",
       "      <th>Employment</th>\n",
       "      <th>DB</th>\n",
       "      <th>Language</th>\n",
       "      <th>DevType</th>\n",
       "      <th>Technology</th>\n",
       "    </tr>\n",
       "  </thead>\n",
       "  <tbody>\n",
       "    <tr>\n",
       "      <th>0</th>\n",
       "      <td>Germany</td>\n",
       "      <td>Master’s degree (M.A., M.S., M.Eng., MBA, etc.)</td>\n",
       "      <td>27</td>\n",
       "      <td>Independent contractor, freelancer, or self-em...</td>\n",
       "      <td>Elasticsearch;Microsoft SQL Server;Oracle</td>\n",
       "      <td>C#;HTML/CSS;JavaScript</td>\n",
       "      <td>Developer, desktop or enterprise applications;...</td>\n",
       "      <td>.NET;.NET Core</td>\n",
       "    </tr>\n",
       "    <tr>\n",
       "      <th>1</th>\n",
       "      <td>United Kingdom</td>\n",
       "      <td>Bachelor’s degree (B.A., B.S., B.Eng., etc.)</td>\n",
       "      <td>4</td>\n",
       "      <td>Employed full-time</td>\n",
       "      <td>NaN</td>\n",
       "      <td>JavaScript;Swift</td>\n",
       "      <td>Developer, full-stack;Developer, mobile</td>\n",
       "      <td>React Native</td>\n",
       "    </tr>\n",
       "    <tr>\n",
       "      <th>2</th>\n",
       "      <td>Russian Federation</td>\n",
       "      <td>NaN</td>\n",
       "      <td>NaN</td>\n",
       "      <td>NaN</td>\n",
       "      <td>NaN</td>\n",
       "      <td>Objective-C;Python;Swift</td>\n",
       "      <td>NaN</td>\n",
       "      <td>NaN</td>\n",
       "    </tr>\n",
       "    <tr>\n",
       "      <th>3</th>\n",
       "      <td>Albania</td>\n",
       "      <td>Master’s degree (M.A., M.S., M.Eng., MBA, etc.)</td>\n",
       "      <td>4</td>\n",
       "      <td>NaN</td>\n",
       "      <td>NaN</td>\n",
       "      <td>NaN</td>\n",
       "      <td>NaN</td>\n",
       "      <td>NaN</td>\n",
       "    </tr>\n",
       "    <tr>\n",
       "      <th>4</th>\n",
       "      <td>United States</td>\n",
       "      <td>Bachelor’s degree (B.A., B.S., B.Eng., etc.)</td>\n",
       "      <td>8</td>\n",
       "      <td>Employed full-time</td>\n",
       "      <td>MySQL;PostgreSQL;Redis;SQLite</td>\n",
       "      <td>HTML/CSS;Ruby;SQL</td>\n",
       "      <td>NaN</td>\n",
       "      <td>Ansible</td>\n",
       "    </tr>\n",
       "  </tbody>\n",
       "</table>\n",
       "</div>"
      ],
      "text/plain": [
       "              Country                                          EdLevel  \\\n",
       "0             Germany  Master’s degree (M.A., M.S., M.Eng., MBA, etc.)   \n",
       "1      United Kingdom     Bachelor’s degree (B.A., B.S., B.Eng., etc.)   \n",
       "2  Russian Federation                                              NaN   \n",
       "3             Albania  Master’s degree (M.A., M.S., M.Eng., MBA, etc.)   \n",
       "4       United States     Bachelor’s degree (B.A., B.S., B.Eng., etc.)   \n",
       "\n",
       "  YearsCodePro                                         Employment  \\\n",
       "0           27  Independent contractor, freelancer, or self-em...   \n",
       "1            4                                 Employed full-time   \n",
       "2          NaN                                                NaN   \n",
       "3            4                                                NaN   \n",
       "4            8                                 Employed full-time   \n",
       "\n",
       "                                          DB                  Language  \\\n",
       "0  Elasticsearch;Microsoft SQL Server;Oracle    C#;HTML/CSS;JavaScript   \n",
       "1                                        NaN          JavaScript;Swift   \n",
       "2                                        NaN  Objective-C;Python;Swift   \n",
       "3                                        NaN                       NaN   \n",
       "4              MySQL;PostgreSQL;Redis;SQLite         HTML/CSS;Ruby;SQL   \n",
       "\n",
       "                                             DevType      Technology  \n",
       "0  Developer, desktop or enterprise applications;...  .NET;.NET Core  \n",
       "1            Developer, full-stack;Developer, mobile    React Native  \n",
       "2                                                NaN             NaN  \n",
       "3                                                NaN             NaN  \n",
       "4                                                NaN         Ansible  "
      ]
     },
     "execution_count": 363,
     "metadata": {},
     "output_type": "execute_result"
    }
   ],
   "source": [
    "df = df[[\"Country\", \"EdLevel\", \"YearsCodePro\", \"Employment\", \"DB\", \"Language\", \"DevType\", \"Technology\"]]\n",
    "df.head()"
   ]
  },
  {
   "cell_type": "code",
   "execution_count": 364,
   "metadata": {},
   "outputs": [
    {
     "data": {
      "text/html": [
       "<div>\n",
       "<style scoped>\n",
       "    .dataframe tbody tr th:only-of-type {\n",
       "        vertical-align: middle;\n",
       "    }\n",
       "\n",
       "    .dataframe tbody tr th {\n",
       "        vertical-align: top;\n",
       "    }\n",
       "\n",
       "    .dataframe thead th {\n",
       "        text-align: right;\n",
       "    }\n",
       "</style>\n",
       "<table border=\"1\" class=\"dataframe\">\n",
       "  <thead>\n",
       "    <tr style=\"text-align: right;\">\n",
       "      <th></th>\n",
       "      <th>Country</th>\n",
       "      <th>EdLevel</th>\n",
       "      <th>YearsCodePro</th>\n",
       "      <th>Employment</th>\n",
       "      <th>DB</th>\n",
       "      <th>Language</th>\n",
       "      <th>DevType</th>\n",
       "      <th>Technology</th>\n",
       "    </tr>\n",
       "  </thead>\n",
       "  <tbody>\n",
       "    <tr>\n",
       "      <th>0</th>\n",
       "      <td>Germany</td>\n",
       "      <td>Master’s degree (M.A., M.S., M.Eng., MBA, etc.)</td>\n",
       "      <td>27</td>\n",
       "      <td>Independent contractor, freelancer, or self-em...</td>\n",
       "      <td>Elasticsearch;Microsoft SQL Server;Oracle</td>\n",
       "      <td>C#;HTML/CSS;JavaScript</td>\n",
       "      <td>Developer, desktop or enterprise applications;...</td>\n",
       "      <td>.NET;.NET Core</td>\n",
       "    </tr>\n",
       "    <tr>\n",
       "      <th>7</th>\n",
       "      <td>United States</td>\n",
       "      <td>Bachelor’s degree (B.A., B.S., B.Eng., etc.)</td>\n",
       "      <td>13</td>\n",
       "      <td>Employed full-time</td>\n",
       "      <td>MariaDB;MySQL;Redis</td>\n",
       "      <td>Python;SQL</td>\n",
       "      <td>Developer, back-end;Developer, desktop or ente...</td>\n",
       "      <td>Ansible</td>\n",
       "    </tr>\n",
       "    <tr>\n",
       "      <th>9</th>\n",
       "      <td>United Kingdom</td>\n",
       "      <td>Master’s degree (M.A., M.S., M.Eng., MBA, etc.)</td>\n",
       "      <td>4</td>\n",
       "      <td>Employed full-time</td>\n",
       "      <td>Microsoft SQL Server</td>\n",
       "      <td>HTML/CSS;Java;JavaScript;Python;SQL</td>\n",
       "      <td>Database administrator;Developer, full-stack;D...</td>\n",
       "      <td>Pandas</td>\n",
       "    </tr>\n",
       "    <tr>\n",
       "      <th>10</th>\n",
       "      <td>United Kingdom</td>\n",
       "      <td>Bachelor’s degree (B.A., B.S., B.Eng., etc.)</td>\n",
       "      <td>2</td>\n",
       "      <td>Employed full-time</td>\n",
       "      <td>Firebase;MongoDB;PostgreSQL;SQLite</td>\n",
       "      <td>C#;JavaScript;Swift</td>\n",
       "      <td>Developer, back-end;Developer, desktop or ente...</td>\n",
       "      <td>Node.js</td>\n",
       "    </tr>\n",
       "    <tr>\n",
       "      <th>13</th>\n",
       "      <td>United States</td>\n",
       "      <td>Associate degree (A.A., A.S., etc.)</td>\n",
       "      <td>1</td>\n",
       "      <td>Employed full-time</td>\n",
       "      <td>Firebase;Microsoft SQL Server</td>\n",
       "      <td>HTML/CSS;JavaScript;SQL;TypeScript</td>\n",
       "      <td>Developer, desktop or enterprise applications;...</td>\n",
       "      <td>Node.js</td>\n",
       "    </tr>\n",
       "  </tbody>\n",
       "</table>\n",
       "</div>"
      ],
      "text/plain": [
       "           Country                                          EdLevel  \\\n",
       "0          Germany  Master’s degree (M.A., M.S., M.Eng., MBA, etc.)   \n",
       "7    United States     Bachelor’s degree (B.A., B.S., B.Eng., etc.)   \n",
       "9   United Kingdom  Master’s degree (M.A., M.S., M.Eng., MBA, etc.)   \n",
       "10  United Kingdom     Bachelor’s degree (B.A., B.S., B.Eng., etc.)   \n",
       "13   United States              Associate degree (A.A., A.S., etc.)   \n",
       "\n",
       "   YearsCodePro                                         Employment  \\\n",
       "0            27  Independent contractor, freelancer, or self-em...   \n",
       "7            13                                 Employed full-time   \n",
       "9             4                                 Employed full-time   \n",
       "10            2                                 Employed full-time   \n",
       "13            1                                 Employed full-time   \n",
       "\n",
       "                                           DB  \\\n",
       "0   Elasticsearch;Microsoft SQL Server;Oracle   \n",
       "7                         MariaDB;MySQL;Redis   \n",
       "9                        Microsoft SQL Server   \n",
       "10         Firebase;MongoDB;PostgreSQL;SQLite   \n",
       "13              Firebase;Microsoft SQL Server   \n",
       "\n",
       "                               Language  \\\n",
       "0                C#;HTML/CSS;JavaScript   \n",
       "7                            Python;SQL   \n",
       "9   HTML/CSS;Java;JavaScript;Python;SQL   \n",
       "10                  C#;JavaScript;Swift   \n",
       "13   HTML/CSS;JavaScript;SQL;TypeScript   \n",
       "\n",
       "                                              DevType      Technology  \n",
       "0   Developer, desktop or enterprise applications;...  .NET;.NET Core  \n",
       "7   Developer, back-end;Developer, desktop or ente...         Ansible  \n",
       "9   Database administrator;Developer, full-stack;D...          Pandas  \n",
       "10  Developer, back-end;Developer, desktop or ente...         Node.js  \n",
       "13  Developer, desktop or enterprise applications;...         Node.js  "
      ]
     },
     "execution_count": 364,
     "metadata": {},
     "output_type": "execute_result"
    }
   ],
   "source": [
    "df = df[df[\"DB\"].notnull()]\n",
    "df = df[df[\"Language\"].notnull()]\n",
    "df = df[df[\"DevType\"].notnull()]\n",
    "df = df[df[\"Technology\"].notnull()]\n",
    "df.head()"
   ]
  },
  {
   "cell_type": "code",
   "execution_count": 365,
   "metadata": {},
   "outputs": [
    {
     "data": {
      "text/html": [
       "<div>\n",
       "<style scoped>\n",
       "    .dataframe tbody tr th:only-of-type {\n",
       "        vertical-align: middle;\n",
       "    }\n",
       "\n",
       "    .dataframe tbody tr th {\n",
       "        vertical-align: top;\n",
       "    }\n",
       "\n",
       "    .dataframe thead th {\n",
       "        text-align: right;\n",
       "    }\n",
       "</style>\n",
       "<table border=\"1\" class=\"dataframe\">\n",
       "  <thead>\n",
       "    <tr style=\"text-align: right;\">\n",
       "      <th></th>\n",
       "      <th>Country</th>\n",
       "      <th>EdLevel</th>\n",
       "      <th>YearsCodePro</th>\n",
       "      <th>Employment</th>\n",
       "      <th>DB</th>\n",
       "      <th>Language</th>\n",
       "      <th>DevType</th>\n",
       "      <th>Technology</th>\n",
       "    </tr>\n",
       "  </thead>\n",
       "  <tbody>\n",
       "    <tr>\n",
       "      <th>0</th>\n",
       "      <td>Germany</td>\n",
       "      <td>Master’s degree (M.A., M.S., M.Eng., MBA, etc.)</td>\n",
       "      <td>27</td>\n",
       "      <td>Independent contractor, freelancer, or self-em...</td>\n",
       "      <td>Elasticsearch;Microsoft SQL Server;Oracle</td>\n",
       "      <td>C#;HTML/CSS;JavaScript</td>\n",
       "      <td>Developer, desktop or enterprise applications;...</td>\n",
       "      <td>.NET;.NET Core</td>\n",
       "    </tr>\n",
       "    <tr>\n",
       "      <th>7</th>\n",
       "      <td>United States</td>\n",
       "      <td>Bachelor’s degree (B.A., B.S., B.Eng., etc.)</td>\n",
       "      <td>13</td>\n",
       "      <td>Employed full-time</td>\n",
       "      <td>MariaDB;MySQL;Redis</td>\n",
       "      <td>Python;SQL</td>\n",
       "      <td>Developer, back-end;Developer, desktop or ente...</td>\n",
       "      <td>Ansible</td>\n",
       "    </tr>\n",
       "    <tr>\n",
       "      <th>9</th>\n",
       "      <td>United Kingdom</td>\n",
       "      <td>Master’s degree (M.A., M.S., M.Eng., MBA, etc.)</td>\n",
       "      <td>4</td>\n",
       "      <td>Employed full-time</td>\n",
       "      <td>Microsoft SQL Server</td>\n",
       "      <td>HTML/CSS;Java;JavaScript;Python;SQL</td>\n",
       "      <td>Database administrator;Developer, full-stack;D...</td>\n",
       "      <td>Pandas</td>\n",
       "    </tr>\n",
       "    <tr>\n",
       "      <th>10</th>\n",
       "      <td>United Kingdom</td>\n",
       "      <td>Bachelor’s degree (B.A., B.S., B.Eng., etc.)</td>\n",
       "      <td>2</td>\n",
       "      <td>Employed full-time</td>\n",
       "      <td>Firebase;MongoDB;PostgreSQL;SQLite</td>\n",
       "      <td>C#;JavaScript;Swift</td>\n",
       "      <td>Developer, back-end;Developer, desktop or ente...</td>\n",
       "      <td>Node.js</td>\n",
       "    </tr>\n",
       "    <tr>\n",
       "      <th>13</th>\n",
       "      <td>United States</td>\n",
       "      <td>Associate degree (A.A., A.S., etc.)</td>\n",
       "      <td>1</td>\n",
       "      <td>Employed full-time</td>\n",
       "      <td>Firebase;Microsoft SQL Server</td>\n",
       "      <td>HTML/CSS;JavaScript;SQL;TypeScript</td>\n",
       "      <td>Developer, desktop or enterprise applications;...</td>\n",
       "      <td>Node.js</td>\n",
       "    </tr>\n",
       "  </tbody>\n",
       "</table>\n",
       "</div>"
      ],
      "text/plain": [
       "           Country                                          EdLevel  \\\n",
       "0          Germany  Master’s degree (M.A., M.S., M.Eng., MBA, etc.)   \n",
       "7    United States     Bachelor’s degree (B.A., B.S., B.Eng., etc.)   \n",
       "9   United Kingdom  Master’s degree (M.A., M.S., M.Eng., MBA, etc.)   \n",
       "10  United Kingdom     Bachelor’s degree (B.A., B.S., B.Eng., etc.)   \n",
       "13   United States              Associate degree (A.A., A.S., etc.)   \n",
       "\n",
       "   YearsCodePro                                         Employment  \\\n",
       "0            27  Independent contractor, freelancer, or self-em...   \n",
       "7            13                                 Employed full-time   \n",
       "9             4                                 Employed full-time   \n",
       "10            2                                 Employed full-time   \n",
       "13            1                                 Employed full-time   \n",
       "\n",
       "                                           DB  \\\n",
       "0   Elasticsearch;Microsoft SQL Server;Oracle   \n",
       "7                         MariaDB;MySQL;Redis   \n",
       "9                        Microsoft SQL Server   \n",
       "10         Firebase;MongoDB;PostgreSQL;SQLite   \n",
       "13              Firebase;Microsoft SQL Server   \n",
       "\n",
       "                               Language  \\\n",
       "0                C#;HTML/CSS;JavaScript   \n",
       "7                            Python;SQL   \n",
       "9   HTML/CSS;Java;JavaScript;Python;SQL   \n",
       "10                  C#;JavaScript;Swift   \n",
       "13   HTML/CSS;JavaScript;SQL;TypeScript   \n",
       "\n",
       "                                              DevType      Technology  \n",
       "0   Developer, desktop or enterprise applications;...  .NET;.NET Core  \n",
       "7   Developer, back-end;Developer, desktop or ente...         Ansible  \n",
       "9   Database administrator;Developer, full-stack;D...          Pandas  \n",
       "10  Developer, back-end;Developer, desktop or ente...         Node.js  \n",
       "13  Developer, desktop or enterprise applications;...         Node.js  "
      ]
     },
     "execution_count": 365,
     "metadata": {},
     "output_type": "execute_result"
    }
   ],
   "source": [
    "df = df[df[\"Employment\"].notnull()]\n",
    "df.head()"
   ]
  },
  {
   "cell_type": "code",
   "execution_count": 366,
   "metadata": {},
   "outputs": [
    {
     "data": {
      "text/html": [
       "<div>\n",
       "<style scoped>\n",
       "    .dataframe tbody tr th:only-of-type {\n",
       "        vertical-align: middle;\n",
       "    }\n",
       "\n",
       "    .dataframe tbody tr th {\n",
       "        vertical-align: top;\n",
       "    }\n",
       "\n",
       "    .dataframe thead th {\n",
       "        text-align: right;\n",
       "    }\n",
       "</style>\n",
       "<table border=\"1\" class=\"dataframe\">\n",
       "  <thead>\n",
       "    <tr style=\"text-align: right;\">\n",
       "      <th></th>\n",
       "      <th>Country</th>\n",
       "      <th>EdLevel</th>\n",
       "      <th>YearsCodePro</th>\n",
       "      <th>Employment</th>\n",
       "      <th>DB</th>\n",
       "      <th>Language</th>\n",
       "      <th>DevType</th>\n",
       "      <th>Technology</th>\n",
       "    </tr>\n",
       "  </thead>\n",
       "  <tbody>\n",
       "    <tr>\n",
       "      <th>0</th>\n",
       "      <td>Germany</td>\n",
       "      <td>Master’s degree (M.A., M.S., M.Eng., MBA, etc.)</td>\n",
       "      <td>27</td>\n",
       "      <td>Independent contractor, freelancer, or self-em...</td>\n",
       "      <td>Elasticsearch;Microsoft SQL Server;Oracle</td>\n",
       "      <td>C#;HTML/CSS;JavaScript</td>\n",
       "      <td>Developer, desktop or enterprise applications;...</td>\n",
       "      <td>.NET;.NET Core</td>\n",
       "    </tr>\n",
       "    <tr>\n",
       "      <th>7</th>\n",
       "      <td>United States</td>\n",
       "      <td>Bachelor’s degree (B.A., B.S., B.Eng., etc.)</td>\n",
       "      <td>13</td>\n",
       "      <td>Employed full-time</td>\n",
       "      <td>MariaDB;MySQL;Redis</td>\n",
       "      <td>Python;SQL</td>\n",
       "      <td>Developer, back-end;Developer, desktop or ente...</td>\n",
       "      <td>Ansible</td>\n",
       "    </tr>\n",
       "    <tr>\n",
       "      <th>9</th>\n",
       "      <td>United Kingdom</td>\n",
       "      <td>Master’s degree (M.A., M.S., M.Eng., MBA, etc.)</td>\n",
       "      <td>4</td>\n",
       "      <td>Employed full-time</td>\n",
       "      <td>Microsoft SQL Server</td>\n",
       "      <td>HTML/CSS;Java;JavaScript;Python;SQL</td>\n",
       "      <td>Database administrator;Developer, full-stack;D...</td>\n",
       "      <td>Pandas</td>\n",
       "    </tr>\n",
       "    <tr>\n",
       "      <th>10</th>\n",
       "      <td>United Kingdom</td>\n",
       "      <td>Bachelor’s degree (B.A., B.S., B.Eng., etc.)</td>\n",
       "      <td>2</td>\n",
       "      <td>Employed full-time</td>\n",
       "      <td>Firebase;MongoDB;PostgreSQL;SQLite</td>\n",
       "      <td>C#;JavaScript;Swift</td>\n",
       "      <td>Developer, back-end;Developer, desktop or ente...</td>\n",
       "      <td>Node.js</td>\n",
       "    </tr>\n",
       "    <tr>\n",
       "      <th>13</th>\n",
       "      <td>United States</td>\n",
       "      <td>Associate degree (A.A., A.S., etc.)</td>\n",
       "      <td>1</td>\n",
       "      <td>Employed full-time</td>\n",
       "      <td>Firebase;Microsoft SQL Server</td>\n",
       "      <td>HTML/CSS;JavaScript;SQL;TypeScript</td>\n",
       "      <td>Developer, desktop or enterprise applications;...</td>\n",
       "      <td>Node.js</td>\n",
       "    </tr>\n",
       "  </tbody>\n",
       "</table>\n",
       "</div>"
      ],
      "text/plain": [
       "           Country                                          EdLevel  \\\n",
       "0          Germany  Master’s degree (M.A., M.S., M.Eng., MBA, etc.)   \n",
       "7    United States     Bachelor’s degree (B.A., B.S., B.Eng., etc.)   \n",
       "9   United Kingdom  Master’s degree (M.A., M.S., M.Eng., MBA, etc.)   \n",
       "10  United Kingdom     Bachelor’s degree (B.A., B.S., B.Eng., etc.)   \n",
       "13   United States              Associate degree (A.A., A.S., etc.)   \n",
       "\n",
       "   YearsCodePro                                         Employment  \\\n",
       "0            27  Independent contractor, freelancer, or self-em...   \n",
       "7            13                                 Employed full-time   \n",
       "9             4                                 Employed full-time   \n",
       "10            2                                 Employed full-time   \n",
       "13            1                                 Employed full-time   \n",
       "\n",
       "                                           DB  \\\n",
       "0   Elasticsearch;Microsoft SQL Server;Oracle   \n",
       "7                         MariaDB;MySQL;Redis   \n",
       "9                        Microsoft SQL Server   \n",
       "10         Firebase;MongoDB;PostgreSQL;SQLite   \n",
       "13              Firebase;Microsoft SQL Server   \n",
       "\n",
       "                               Language  \\\n",
       "0                C#;HTML/CSS;JavaScript   \n",
       "7                            Python;SQL   \n",
       "9   HTML/CSS;Java;JavaScript;Python;SQL   \n",
       "10                  C#;JavaScript;Swift   \n",
       "13   HTML/CSS;JavaScript;SQL;TypeScript   \n",
       "\n",
       "                                              DevType      Technology  \n",
       "0   Developer, desktop or enterprise applications;...  .NET;.NET Core  \n",
       "7   Developer, back-end;Developer, desktop or ente...         Ansible  \n",
       "9   Database administrator;Developer, full-stack;D...          Pandas  \n",
       "10  Developer, back-end;Developer, desktop or ente...         Node.js  \n",
       "13  Developer, desktop or enterprise applications;...         Node.js  "
      ]
     },
     "execution_count": 366,
     "metadata": {},
     "output_type": "execute_result"
    }
   ],
   "source": [
    "df.head()"
   ]
  },
  {
   "cell_type": "code",
   "execution_count": 367,
   "metadata": {},
   "outputs": [
    {
     "name": "stdout",
     "output_type": "stream",
     "text": [
      "<class 'pandas.core.frame.DataFrame'>\n",
      "Index: 30868 entries, 0 to 64447\n",
      "Data columns (total 8 columns):\n",
      " #   Column        Non-Null Count  Dtype \n",
      "---  ------        --------------  ----- \n",
      " 0   Country       30868 non-null  object\n",
      " 1   EdLevel       30308 non-null  object\n",
      " 2   YearsCodePro  28669 non-null  object\n",
      " 3   Employment    30868 non-null  object\n",
      " 4   DB            30868 non-null  object\n",
      " 5   Language      30868 non-null  object\n",
      " 6   DevType       30868 non-null  object\n",
      " 7   Technology    30868 non-null  object\n",
      "dtypes: object(8)\n",
      "memory usage: 2.1+ MB\n"
     ]
    }
   ],
   "source": [
    "df.info()"
   ]
  },
  {
   "cell_type": "code",
   "execution_count": 368,
   "metadata": {},
   "outputs": [
    {
     "data": {
      "text/plain": [
       "Country         0\n",
       "EdLevel         0\n",
       "YearsCodePro    0\n",
       "Employment      0\n",
       "DB              0\n",
       "Language        0\n",
       "DevType         0\n",
       "Technology      0\n",
       "dtype: int64"
      ]
     },
     "execution_count": 368,
     "metadata": {},
     "output_type": "execute_result"
    }
   ],
   "source": [
    "df = df.dropna()\n",
    "df.isnull().sum()"
   ]
  },
  {
   "cell_type": "code",
   "execution_count": 369,
   "metadata": {},
   "outputs": [
    {
     "data": {
      "text/plain": [
       "Country\n",
       "United States     6412\n",
       "India             2702\n",
       "United Kingdom    1974\n",
       "Germany           1706\n",
       "Canada            1039\n",
       "                  ... \n",
       "Djibouti             1\n",
       "Bahamas              1\n",
       "Sierra Leone         1\n",
       "Guinea               1\n",
       "Mozambique           1\n",
       "Name: count, Length: 165, dtype: int64"
      ]
     },
     "execution_count": 369,
     "metadata": {},
     "output_type": "execute_result"
    }
   ],
   "source": [
    "df['Country'].value_counts()"
   ]
  },
  {
   "cell_type": "code",
   "execution_count": 370,
   "metadata": {},
   "outputs": [],
   "source": [
    "def shorten_categories(categories, cutoff):\n",
    "    categorical_map = {}\n",
    "    for i in range(len(categories)):\n",
    "        if categories.values[i] >= cutoff:\n",
    "            categorical_map[categories.index[i]] = categories.index[i]\n",
    "        else:\n",
    "            categorical_map[categories.index[i]] = 'other'\n",
    "    return categorical_map"
   ]
  },
  {
   "cell_type": "code",
   "execution_count": 371,
   "metadata": {},
   "outputs": [
    {
     "data": {
      "text/plain": [
       "Country\n",
       "other                 8831\n",
       "United States         6412\n",
       "India                 2702\n",
       "United Kingdom        1974\n",
       "Germany               1706\n",
       "Canada                1039\n",
       "Brazil                 901\n",
       "France                 825\n",
       "Netherlands            641\n",
       "Australia              631\n",
       "Poland                 573\n",
       "Spain                  548\n",
       "Italy                  543\n",
       "Russian Federation     456\n",
       "Sweden                 421\n",
       "Name: count, dtype: int64"
      ]
     },
     "execution_count": 371,
     "metadata": {},
     "output_type": "execute_result"
    }
   ],
   "source": [
    "country_map = shorten_categories(df.Country.value_counts(), 400)\n",
    "df['Country'] = df['Country'].map(country_map)\n",
    "df.Country.value_counts()"
   ]
  },
  {
   "cell_type": "code",
   "execution_count": 372,
   "metadata": {},
   "outputs": [
    {
     "data": {
      "text/plain": [
       "DB\n",
       "Microsoft SQL Server                                                                   2442\n",
       "MySQL                                                                                  1089\n",
       "PostgreSQL                                                                              908\n",
       "Microsoft SQL Server;MySQL                                                              656\n",
       "MongoDB                                                                                 553\n",
       "                                                                                       ... \n",
       "Couchbase;DynamoDB;MariaDB;MySQL;Oracle;PostgreSQL;Redis;SQLite                           1\n",
       "DynamoDB;Elasticsearch;Firebase;Microsoft SQL Server;MySQL;Oracle;PostgreSQL;SQLite       1\n",
       "Elasticsearch;IBM DB2;Microsoft SQL Server;MongoDB                                        1\n",
       "Cassandra;DynamoDB;Elasticsearch                                                          1\n",
       "Cassandra;Couchbase;DynamoDB;Firebase;IBM DB2                                             1\n",
       "Name: count, Length: 2464, dtype: int64"
      ]
     },
     "execution_count": 372,
     "metadata": {},
     "output_type": "execute_result"
    }
   ],
   "source": [
    "df.DB.value_counts()"
   ]
  },
  {
   "cell_type": "code",
   "execution_count": 373,
   "metadata": {},
   "outputs": [
    {
     "data": {
      "text/plain": [
       "DB\n",
       "other                                19538\n",
       "Microsoft SQL Server                  2442\n",
       "MySQL                                 1089\n",
       "PostgreSQL                             908\n",
       "Microsoft SQL Server;MySQL             656\n",
       "MongoDB                                553\n",
       "Microsoft SQL Server;SQLite            462\n",
       "MySQL;PostgreSQL                       423\n",
       "SQLite                                 419\n",
       "MongoDB;MySQL                          382\n",
       "MySQL;SQLite                           375\n",
       "Microsoft SQL Server;PostgreSQL        330\n",
       "Microsoft SQL Server;MySQL;SQLite      319\n",
       "MariaDB;MySQL                          307\n",
       "Name: count, dtype: int64"
      ]
     },
     "execution_count": 373,
     "metadata": {},
     "output_type": "execute_result"
    }
   ],
   "source": [
    "db_map = shorten_categories(df.DB.value_counts(), 300)\n",
    "df['DB'] = df['DB'].map(db_map)\n",
    "df.DB.value_counts()"
   ]
  },
  {
   "cell_type": "code",
   "execution_count": 374,
   "metadata": {},
   "outputs": [
    {
     "data": {
      "text/plain": [
       "Language\n",
       "Others                                                         25793\n",
       "C#;HTML/CSS;JavaScript;SQL                                       738\n",
       "C#;HTML/CSS;JavaScript;SQL;TypeScript                            671\n",
       "HTML/CSS;JavaScript;TypeScript                                   348\n",
       "HTML/CSS;JavaScript;PHP;SQL                                      345\n",
       "Bash/Shell/PowerShell;C#;HTML/CSS;JavaScript;SQL;TypeScript      308\n",
       "Name: count, dtype: int64"
      ]
     },
     "execution_count": 374,
     "metadata": {},
     "output_type": "execute_result"
    }
   ],
   "source": [
    "# Identify values with counts less than 300\n",
    "value_counts = df['Language'].value_counts()\n",
    "mask = df['Language'].isin(value_counts.index[value_counts < 300])\n",
    "\n",
    "# Replace values with counts less than 300 with 'Others'\n",
    "df.loc[mask, 'Language'] = 'Others'\n",
    "df.Language.value_counts()"
   ]
  },
  {
   "cell_type": "code",
   "execution_count": 375,
   "metadata": {},
   "outputs": [
    {
     "data": {
      "text/plain": [
       "DevType\n",
       "Others                                                                                                          18609\n",
       "Developer, full-stack                                                                                            2779\n",
       "Developer, back-end;Developer, front-end;Developer, full-stack                                                   1473\n",
       "Developer, back-end                                                                                              1335\n",
       "Developer, back-end;Developer, full-stack                                                                         874\n",
       "Developer, back-end;Developer, desktop or enterprise applications;Developer, front-end;Developer, full-stack      595\n",
       "Developer, front-end;Developer, full-stack                                                                        509\n",
       "Developer, front-end                                                                                              494\n",
       "Developer, back-end;Developer, front-end;Developer, full-stack;Developer, mobile                                  446\n",
       "Developer, mobile                                                                                                 389\n",
       "Developer, back-end;Developer, desktop or enterprise applications                                                 358\n",
       "Developer, back-end;Developer, desktop or enterprise applications;Developer, full-stack                           342\n",
       "Name: count, dtype: int64"
      ]
     },
     "execution_count": 375,
     "metadata": {},
     "output_type": "execute_result"
    }
   ],
   "source": [
    "# Identify values with counts less than 300\n",
    "value_counts = df['DevType'].value_counts()\n",
    "mask = df['DevType'].isin(value_counts.index[value_counts < 300])\n",
    "\n",
    "# Replace values with counts less than 300 with 'Others'\n",
    "df.loc[mask, 'DevType'] = 'Others'\n",
    "df.DevType.value_counts()"
   ]
  },
  {
   "cell_type": "code",
   "execution_count": 376,
   "metadata": {},
   "outputs": [
    {
     "data": {
      "text/plain": [
       "Technology\n",
       "Others                    12007\n",
       "Node.js                    4927\n",
       ".NET;.NET Core             2564\n",
       ".NET                       1774\n",
       ".NET;.NET Core;Node.js     1327\n",
       "Node.js;React Native        900\n",
       "Pandas                      774\n",
       "Ansible                     552\n",
       ".NET;Node.js                540\n",
       ".NET Core                   436\n",
       "Cordova;Node.js             376\n",
       "React Native                374\n",
       ".NET;.NET Core;Xamarin      371\n",
       "Flutter                     337\n",
       ".NET Core;Node.js           329\n",
       "Ansible;Node.js             308\n",
       "Node.js;Pandas              307\n",
       "Name: count, dtype: int64"
      ]
     },
     "execution_count": 376,
     "metadata": {},
     "output_type": "execute_result"
    }
   ],
   "source": [
    "# Identify values with counts less than 300\n",
    "value_counts = df['Technology'].value_counts()\n",
    "mask = df['Technology'].isin(value_counts.index[value_counts < 300])\n",
    "\n",
    "# Replace values with counts less than 300 with 'Others'\n",
    "df.loc[mask, 'Technology'] = 'Others'\n",
    "df.Technology.value_counts()"
   ]
  },
  {
   "cell_type": "code",
   "execution_count": 377,
   "metadata": {},
   "outputs": [
    {
     "data": {
      "text/plain": [
       "array(['27', '13', '4', '2', '1', '3', '17', '14', '12', '20', '10', '29',\n",
       "       '28', '23', '15', '11', '7', '25', '9', '8', 'Less than 1 year',\n",
       "       '5', '21', '16', '6', '35', '18', '32', '19', '30', '38', '24',\n",
       "       '22', '26', '40', '31', 'More than 50 years', '33', '34', '39',\n",
       "       '37', '41', '45', '36', '50', '42', '43', '44', '46', '49', '47'],\n",
       "      dtype=object)"
      ]
     },
     "execution_count": 377,
     "metadata": {},
     "output_type": "execute_result"
    }
   ],
   "source": [
    "df[\"YearsCodePro\"].unique()"
   ]
  },
  {
   "cell_type": "code",
   "execution_count": 378,
   "metadata": {},
   "outputs": [],
   "source": [
    "def clean_experience(x):\n",
    "    if x == \"More than 50 years\":\n",
    "        return 50\n",
    "    if x == \"Less than 1 year\":\n",
    "        return 0.5\n",
    "    return float(x)\n",
    "df['YearsCodePro'] = df['YearsCodePro'].apply(clean_experience)"
   ]
  },
  {
   "cell_type": "code",
   "execution_count": 379,
   "metadata": {},
   "outputs": [
    {
     "data": {
      "text/plain": [
       "array(['Master’s degree (M.A., M.S., M.Eng., MBA, etc.)',\n",
       "       'Bachelor’s degree (B.A., B.S., B.Eng., etc.)',\n",
       "       'Associate degree (A.A., A.S., etc.)',\n",
       "       'Some college/university study without earning a degree',\n",
       "       'Other doctoral degree (Ph.D., Ed.D., etc.)',\n",
       "       'Secondary school (e.g. American high school, German Realschule or Gymnasium, etc.)',\n",
       "       'Professional degree (JD, MD, etc.)', 'Primary/elementary school',\n",
       "       'I never completed any formal education'], dtype=object)"
      ]
     },
     "execution_count": 379,
     "metadata": {},
     "output_type": "execute_result"
    }
   ],
   "source": [
    "df[\"EdLevel\"].unique()"
   ]
  },
  {
   "cell_type": "code",
   "execution_count": 380,
   "metadata": {},
   "outputs": [],
   "source": [
    "def clean_education(x):\n",
    "    if pd.isnull(x) or isinstance(x, float):\n",
    "        return \"Unknown\"  # or any default value you prefer for missing data\n",
    "    if \"Bachelor’s degree\" in x:\n",
    "        return \"Bachelor's degree\"\n",
    "    if \"Master’s degree\" in x:\n",
    "        return \"Master's degree\"\n",
    "    if \"Professional degree\" in x or \"Other doctoral\" in x:\n",
    "        return \"Post grad\"\n",
    "    return \"Less than a Bachelors\"\n",
    "\n",
    "df[\"EdLevel\"] = df[\"EdLevel\"].apply(clean_education)\n"
   ]
  },
  {
   "cell_type": "code",
   "execution_count": 381,
   "metadata": {},
   "outputs": [
    {
     "data": {
      "text/plain": [
       "array([\"Master's degree\", \"Bachelor's degree\", 'Less than a Bachelors',\n",
       "       'Post grad'], dtype=object)"
      ]
     },
     "execution_count": 381,
     "metadata": {},
     "output_type": "execute_result"
    }
   ],
   "source": [
    "df[\"EdLevel\"].unique()"
   ]
  },
  {
   "cell_type": "code",
   "execution_count": 382,
   "metadata": {},
   "outputs": [
    {
     "data": {
      "text/plain": [
       "array([2, 0, 1, 3])"
      ]
     },
     "execution_count": 382,
     "metadata": {},
     "output_type": "execute_result"
    }
   ],
   "source": [
    "from sklearn.preprocessing import LabelEncoder\n",
    "le_education = LabelEncoder()\n",
    "df['EdLevel'] = le_education.fit_transform(df['EdLevel'])\n",
    "df['EdLevel'].unique()"
   ]
  },
  {
   "cell_type": "code",
   "execution_count": 383,
   "metadata": {},
   "outputs": [
    {
     "data": {
      "text/plain": [
       "array([ 4, 13, 12, 10, 14,  3,  6,  1, 11,  2,  7,  5,  8,  0,  9])"
      ]
     },
     "execution_count": 383,
     "metadata": {},
     "output_type": "execute_result"
    }
   ],
   "source": [
    "le_country = LabelEncoder()\n",
    "df['Country'] = le_country.fit_transform(df['Country'])\n",
    "df['Country'].unique()"
   ]
  },
  {
   "cell_type": "code",
   "execution_count": 384,
   "metadata": {},
   "outputs": [
    {
     "data": {
      "text/plain": [
       "array(['Independent contractor, freelancer, or self-employed',\n",
       "       'Employed full-time', 'Employed part-time'], dtype=object)"
      ]
     },
     "execution_count": 384,
     "metadata": {},
     "output_type": "execute_result"
    }
   ],
   "source": [
    "df['Employment'].unique()"
   ]
  },
  {
   "cell_type": "code",
   "execution_count": 385,
   "metadata": {},
   "outputs": [],
   "source": [
    "def clean_employment(x):\n",
    "    if \"Independent contractor, freelancer, or self-employed\" in x:\n",
    "        return \"Not employed\"\n",
    "    if \"Employed full-time\" in x:\n",
    "        return \"Employed full-time\"\n",
    "    if \"Employed part-time\" in x:\n",
    "        return \"Intern\"\n",
    "    return \"Not employed\"\n",
    "\n",
    "df[\"Employment\"] = df[\"Employment\"].apply(clean_employment)"
   ]
  },
  {
   "cell_type": "code",
   "execution_count": 386,
   "metadata": {},
   "outputs": [
    {
     "data": {
      "text/plain": [
       "array(['Not employed', 'Employed full-time', 'Intern'], dtype=object)"
      ]
     },
     "execution_count": 386,
     "metadata": {},
     "output_type": "execute_result"
    }
   ],
   "source": [
    "df['Employment'].unique()"
   ]
  },
  {
   "cell_type": "code",
   "execution_count": 387,
   "metadata": {},
   "outputs": [
    {
     "data": {
      "text/plain": [
       "array([2, 0, 1])"
      ]
     },
     "execution_count": 387,
     "metadata": {},
     "output_type": "execute_result"
    }
   ],
   "source": [
    "le_employment = LabelEncoder()\n",
    "df['Employment'] = le_employment.fit_transform(df['Employment'])\n",
    "df['Employment'].unique()"
   ]
  },
  {
   "cell_type": "code",
   "execution_count": 388,
   "metadata": {},
   "outputs": [
    {
     "data": {
      "text/plain": [
       "array(['other', 'Microsoft SQL Server', 'Microsoft SQL Server;PostgreSQL',\n",
       "       'SQLite', 'MongoDB', 'Microsoft SQL Server;MySQL', 'MySQL',\n",
       "       'PostgreSQL', 'Microsoft SQL Server;MySQL;SQLite',\n",
       "       'Microsoft SQL Server;SQLite', 'MySQL;PostgreSQL', 'MariaDB;MySQL',\n",
       "       'MongoDB;MySQL', 'MySQL;SQLite'], dtype=object)"
      ]
     },
     "execution_count": 388,
     "metadata": {},
     "output_type": "execute_result"
    }
   ],
   "source": [
    "df['DB'].unique()"
   ]
  },
  {
   "cell_type": "code",
   "execution_count": 389,
   "metadata": {},
   "outputs": [
    {
     "data": {
      "text/plain": [
       "array(['Others',\n",
       "       'Bash/Shell/PowerShell;C#;HTML/CSS;JavaScript;SQL;TypeScript',\n",
       "       'HTML/CSS;JavaScript;TypeScript', 'C#;HTML/CSS;JavaScript;SQL',\n",
       "       'C#;HTML/CSS;JavaScript;SQL;TypeScript',\n",
       "       'HTML/CSS;JavaScript;PHP;SQL'], dtype=object)"
      ]
     },
     "execution_count": 389,
     "metadata": {},
     "output_type": "execute_result"
    }
   ],
   "source": [
    "df['Language'].unique()"
   ]
  },
  {
   "cell_type": "code",
   "execution_count": 390,
   "metadata": {},
   "outputs": [
    {
     "data": {
      "text/plain": [
       "array(['Others', 'Developer, full-stack', 'Developer, front-end',\n",
       "       'Developer, back-end;Developer, front-end;Developer, full-stack',\n",
       "       'Developer, back-end;Developer, desktop or enterprise applications;Developer, front-end;Developer, full-stack',\n",
       "       'Developer, front-end;Developer, full-stack',\n",
       "       'Developer, back-end;Developer, desktop or enterprise applications;Developer, full-stack',\n",
       "       'Developer, back-end;Developer, front-end;Developer, full-stack;Developer, mobile',\n",
       "       'Developer, back-end', 'Developer, back-end;Developer, full-stack',\n",
       "       'Developer, back-end;Developer, desktop or enterprise applications',\n",
       "       'Developer, mobile'], dtype=object)"
      ]
     },
     "execution_count": 390,
     "metadata": {},
     "output_type": "execute_result"
    }
   ],
   "source": [
    "df['DevType'].unique()"
   ]
  },
  {
   "cell_type": "code",
   "execution_count": 391,
   "metadata": {},
   "outputs": [
    {
     "data": {
      "text/plain": [
       "array(['.NET;.NET Core', 'Ansible', 'Pandas', 'Node.js', '.NET;Node.js',\n",
       "       '.NET;.NET Core;Node.js', 'Node.js;React Native', 'Node.js;Pandas',\n",
       "       'Others', 'Flutter', '.NET', 'Ansible;Node.js', '.NET Core',\n",
       "       'Cordova;Node.js', 'React Native', '.NET Core;Node.js',\n",
       "       '.NET;.NET Core;Xamarin'], dtype=object)"
      ]
     },
     "execution_count": 391,
     "metadata": {},
     "output_type": "execute_result"
    }
   ],
   "source": [
    "df['Technology'].unique()"
   ]
  },
  {
   "cell_type": "code",
   "execution_count": 392,
   "metadata": {},
   "outputs": [
    {
     "data": {
      "text/plain": [
       "array([13,  1,  4, 12,  6,  2,  8, 11,  3,  5,  9,  0,  7, 10])"
      ]
     },
     "execution_count": 392,
     "metadata": {},
     "output_type": "execute_result"
    }
   ],
   "source": [
    "le_db = LabelEncoder()\n",
    "df['DB'] = le_db.fit_transform(df['DB'])\n",
    "df['DB'].unique()"
   ]
  },
  {
   "cell_type": "code",
   "execution_count": 393,
   "metadata": {},
   "outputs": [
    {
     "data": {
      "text/plain": [
       "array([5, 0, 4, 1, 2, 3])"
      ]
     },
     "execution_count": 393,
     "metadata": {},
     "output_type": "execute_result"
    }
   ],
   "source": [
    "le_language = LabelEncoder()\n",
    "df['Language'] = le_language.fit_transform(df['Language'])\n",
    "df['Language'].unique()"
   ]
  },
  {
   "cell_type": "code",
   "execution_count": 394,
   "metadata": {},
   "outputs": [
    {
     "data": {
      "text/plain": [
       "array([11,  9,  7,  4,  2,  8,  3,  5,  0,  6,  1, 10])"
      ]
     },
     "execution_count": 394,
     "metadata": {},
     "output_type": "execute_result"
    }
   ],
   "source": [
    "le_dev = LabelEncoder()\n",
    "df['DevType'] = le_dev.fit_transform(df['DevType'])\n",
    "df['DevType'].unique()"
   ]
  },
  {
   "cell_type": "code",
   "execution_count": 395,
   "metadata": {},
   "outputs": [
    {
     "data": {
      "text/plain": [
       "array([ 3,  7, 15, 11,  6,  4, 13, 12, 14, 10,  0,  8,  1,  9, 16,  2,  5])"
      ]
     },
     "execution_count": 395,
     "metadata": {},
     "output_type": "execute_result"
    }
   ],
   "source": [
    "le_tech = LabelEncoder()\n",
    "df['Technology'] = le_tech.fit_transform(df['Technology'])\n",
    "df['Technology'].unique()"
   ]
  },
  {
   "cell_type": "code",
   "execution_count": 396,
   "metadata": {},
   "outputs": [
    {
     "data": {
      "text/html": [
       "<div>\n",
       "<style scoped>\n",
       "    .dataframe tbody tr th:only-of-type {\n",
       "        vertical-align: middle;\n",
       "    }\n",
       "\n",
       "    .dataframe tbody tr th {\n",
       "        vertical-align: top;\n",
       "    }\n",
       "\n",
       "    .dataframe thead th {\n",
       "        text-align: right;\n",
       "    }\n",
       "</style>\n",
       "<table border=\"1\" class=\"dataframe\">\n",
       "  <thead>\n",
       "    <tr style=\"text-align: right;\">\n",
       "      <th></th>\n",
       "      <th>Country</th>\n",
       "      <th>EdLevel</th>\n",
       "      <th>YearsCodePro</th>\n",
       "      <th>Employment</th>\n",
       "      <th>DB</th>\n",
       "      <th>Language</th>\n",
       "      <th>DevType</th>\n",
       "      <th>Technology</th>\n",
       "    </tr>\n",
       "  </thead>\n",
       "  <tbody>\n",
       "    <tr>\n",
       "      <th>0</th>\n",
       "      <td>4</td>\n",
       "      <td>2</td>\n",
       "      <td>27.0</td>\n",
       "      <td>2</td>\n",
       "      <td>13</td>\n",
       "      <td>5</td>\n",
       "      <td>11</td>\n",
       "      <td>3</td>\n",
       "    </tr>\n",
       "    <tr>\n",
       "      <th>7</th>\n",
       "      <td>13</td>\n",
       "      <td>0</td>\n",
       "      <td>13.0</td>\n",
       "      <td>0</td>\n",
       "      <td>13</td>\n",
       "      <td>5</td>\n",
       "      <td>11</td>\n",
       "      <td>7</td>\n",
       "    </tr>\n",
       "    <tr>\n",
       "      <th>9</th>\n",
       "      <td>12</td>\n",
       "      <td>2</td>\n",
       "      <td>4.0</td>\n",
       "      <td>0</td>\n",
       "      <td>1</td>\n",
       "      <td>5</td>\n",
       "      <td>11</td>\n",
       "      <td>15</td>\n",
       "    </tr>\n",
       "    <tr>\n",
       "      <th>10</th>\n",
       "      <td>12</td>\n",
       "      <td>0</td>\n",
       "      <td>2.0</td>\n",
       "      <td>0</td>\n",
       "      <td>13</td>\n",
       "      <td>5</td>\n",
       "      <td>11</td>\n",
       "      <td>11</td>\n",
       "    </tr>\n",
       "    <tr>\n",
       "      <th>13</th>\n",
       "      <td>13</td>\n",
       "      <td>1</td>\n",
       "      <td>1.0</td>\n",
       "      <td>0</td>\n",
       "      <td>13</td>\n",
       "      <td>5</td>\n",
       "      <td>11</td>\n",
       "      <td>11</td>\n",
       "    </tr>\n",
       "  </tbody>\n",
       "</table>\n",
       "</div>"
      ],
      "text/plain": [
       "    Country  EdLevel  YearsCodePro  Employment  DB  Language  DevType  \\\n",
       "0         4        2          27.0           2  13         5       11   \n",
       "7        13        0          13.0           0  13         5       11   \n",
       "9        12        2           4.0           0   1         5       11   \n",
       "10       12        0           2.0           0  13         5       11   \n",
       "13       13        1           1.0           0  13         5       11   \n",
       "\n",
       "    Technology  \n",
       "0            3  \n",
       "7            7  \n",
       "9           15  \n",
       "10          11  \n",
       "13          11  "
      ]
     },
     "execution_count": 396,
     "metadata": {},
     "output_type": "execute_result"
    }
   ],
   "source": [
    "df.head()"
   ]
  },
  {
   "cell_type": "code",
   "execution_count": 397,
   "metadata": {},
   "outputs": [],
   "source": [
    "X = df.drop(\"Employment\", axis=1)\n",
    "Y = df[\"Employment\"]"
   ]
  },
  {
   "cell_type": "code",
   "execution_count": 398,
   "metadata": {},
   "outputs": [
    {
     "name": "stdout",
     "output_type": "stream",
     "text": [
      "<class 'pandas.core.frame.DataFrame'>\n",
      "Index: 28203 entries, 0 to 64446\n",
      "Data columns (total 8 columns):\n",
      " #   Column        Non-Null Count  Dtype  \n",
      "---  ------        --------------  -----  \n",
      " 0   Country       28203 non-null  int32  \n",
      " 1   EdLevel       28203 non-null  int32  \n",
      " 2   YearsCodePro  28203 non-null  float64\n",
      " 3   Employment    28203 non-null  int32  \n",
      " 4   DB            28203 non-null  int32  \n",
      " 5   Language      28203 non-null  int32  \n",
      " 6   DevType       28203 non-null  int32  \n",
      " 7   Technology    28203 non-null  int32  \n",
      "dtypes: float64(1), int32(7)\n",
      "memory usage: 1.2 MB\n"
     ]
    }
   ],
   "source": [
    "df.info()"
   ]
  },
  {
   "cell_type": "code",
   "execution_count": 399,
   "metadata": {},
   "outputs": [
    {
     "data": {
      "text/html": [
       "<style>#sk-container-id-7 {color: black;background-color: white;}#sk-container-id-7 pre{padding: 0;}#sk-container-id-7 div.sk-toggleable {background-color: white;}#sk-container-id-7 label.sk-toggleable__label {cursor: pointer;display: block;width: 100%;margin-bottom: 0;padding: 0.3em;box-sizing: border-box;text-align: center;}#sk-container-id-7 label.sk-toggleable__label-arrow:before {content: \"▸\";float: left;margin-right: 0.25em;color: #696969;}#sk-container-id-7 label.sk-toggleable__label-arrow:hover:before {color: black;}#sk-container-id-7 div.sk-estimator:hover label.sk-toggleable__label-arrow:before {color: black;}#sk-container-id-7 div.sk-toggleable__content {max-height: 0;max-width: 0;overflow: hidden;text-align: left;background-color: #f0f8ff;}#sk-container-id-7 div.sk-toggleable__content pre {margin: 0.2em;color: black;border-radius: 0.25em;background-color: #f0f8ff;}#sk-container-id-7 input.sk-toggleable__control:checked~div.sk-toggleable__content {max-height: 200px;max-width: 100%;overflow: auto;}#sk-container-id-7 input.sk-toggleable__control:checked~label.sk-toggleable__label-arrow:before {content: \"▾\";}#sk-container-id-7 div.sk-estimator input.sk-toggleable__control:checked~label.sk-toggleable__label {background-color: #d4ebff;}#sk-container-id-7 div.sk-label input.sk-toggleable__control:checked~label.sk-toggleable__label {background-color: #d4ebff;}#sk-container-id-7 input.sk-hidden--visually {border: 0;clip: rect(1px 1px 1px 1px);clip: rect(1px, 1px, 1px, 1px);height: 1px;margin: -1px;overflow: hidden;padding: 0;position: absolute;width: 1px;}#sk-container-id-7 div.sk-estimator {font-family: monospace;background-color: #f0f8ff;border: 1px dotted black;border-radius: 0.25em;box-sizing: border-box;margin-bottom: 0.5em;}#sk-container-id-7 div.sk-estimator:hover {background-color: #d4ebff;}#sk-container-id-7 div.sk-parallel-item::after {content: \"\";width: 100%;border-bottom: 1px solid gray;flex-grow: 1;}#sk-container-id-7 div.sk-label:hover label.sk-toggleable__label {background-color: #d4ebff;}#sk-container-id-7 div.sk-serial::before {content: \"\";position: absolute;border-left: 1px solid gray;box-sizing: border-box;top: 0;bottom: 0;left: 50%;z-index: 0;}#sk-container-id-7 div.sk-serial {display: flex;flex-direction: column;align-items: center;background-color: white;padding-right: 0.2em;padding-left: 0.2em;position: relative;}#sk-container-id-7 div.sk-item {position: relative;z-index: 1;}#sk-container-id-7 div.sk-parallel {display: flex;align-items: stretch;justify-content: center;background-color: white;position: relative;}#sk-container-id-7 div.sk-item::before, #sk-container-id-7 div.sk-parallel-item::before {content: \"\";position: absolute;border-left: 1px solid gray;box-sizing: border-box;top: 0;bottom: 0;left: 50%;z-index: -1;}#sk-container-id-7 div.sk-parallel-item {display: flex;flex-direction: column;z-index: 1;position: relative;background-color: white;}#sk-container-id-7 div.sk-parallel-item:first-child::after {align-self: flex-end;width: 50%;}#sk-container-id-7 div.sk-parallel-item:last-child::after {align-self: flex-start;width: 50%;}#sk-container-id-7 div.sk-parallel-item:only-child::after {width: 0;}#sk-container-id-7 div.sk-dashed-wrapped {border: 1px dashed gray;margin: 0 0.4em 0.5em 0.4em;box-sizing: border-box;padding-bottom: 0.4em;background-color: white;}#sk-container-id-7 div.sk-label label {font-family: monospace;font-weight: bold;display: inline-block;line-height: 1.2em;}#sk-container-id-7 div.sk-label-container {text-align: center;}#sk-container-id-7 div.sk-container {/* jupyter's `normalize.less` sets `[hidden] { display: none; }` but bootstrap.min.css set `[hidden] { display: none !important; }` so we also need the `!important` here to be able to override the default hidden behavior on the sphinx rendered scikit-learn.org. See: https://github.com/scikit-learn/scikit-learn/issues/21755 */display: inline-block !important;position: relative;}#sk-container-id-7 div.sk-text-repr-fallback {display: none;}</style><div id=\"sk-container-id-7\" class=\"sk-top-container\"><div class=\"sk-text-repr-fallback\"><pre>DecisionTreeRegressor(random_state=0)</pre><b>In a Jupyter environment, please rerun this cell to show the HTML representation or trust the notebook. <br />On GitHub, the HTML representation is unable to render, please try loading this page with nbviewer.org.</b></div><div class=\"sk-container\" hidden><div class=\"sk-item\"><div class=\"sk-estimator sk-toggleable\"><input class=\"sk-toggleable__control sk-hidden--visually\" id=\"sk-estimator-id-7\" type=\"checkbox\" checked><label for=\"sk-estimator-id-7\" class=\"sk-toggleable__label sk-toggleable__label-arrow\">DecisionTreeRegressor</label><div class=\"sk-toggleable__content\"><pre>DecisionTreeRegressor(random_state=0)</pre></div></div></div></div></div>"
      ],
      "text/plain": [
       "DecisionTreeRegressor(random_state=0)"
      ]
     },
     "execution_count": 399,
     "metadata": {},
     "output_type": "execute_result"
    }
   ],
   "source": [
    "from sklearn.tree import DecisionTreeRegressor\n",
    "dec_tree_reg = DecisionTreeRegressor(random_state=0)\n",
    "dec_tree_reg.fit(X, Y.values)"
   ]
  },
  {
   "cell_type": "code",
   "execution_count": 400,
   "metadata": {},
   "outputs": [],
   "source": [
    "y_pred = dec_tree_reg.predict(X)"
   ]
  },
  {
   "cell_type": "code",
   "execution_count": 401,
   "metadata": {},
   "outputs": [
    {
     "name": "stdout",
     "output_type": "stream",
     "text": [
      "0.38\n"
     ]
    }
   ],
   "source": [
    "from sklearn.metrics import mean_squared_error, mean_absolute_error\n",
    "import numpy as np\n",
    "error = np.sqrt(mean_squared_error(Y, y_pred))\n",
    "print(\"{:,.02f}\".format(error))"
   ]
  },
  {
   "cell_type": "code",
   "execution_count": 402,
   "metadata": {},
   "outputs": [
    {
     "data": {
      "text/html": [
       "<style>#sk-container-id-8 {color: black;background-color: white;}#sk-container-id-8 pre{padding: 0;}#sk-container-id-8 div.sk-toggleable {background-color: white;}#sk-container-id-8 label.sk-toggleable__label {cursor: pointer;display: block;width: 100%;margin-bottom: 0;padding: 0.3em;box-sizing: border-box;text-align: center;}#sk-container-id-8 label.sk-toggleable__label-arrow:before {content: \"▸\";float: left;margin-right: 0.25em;color: #696969;}#sk-container-id-8 label.sk-toggleable__label-arrow:hover:before {color: black;}#sk-container-id-8 div.sk-estimator:hover label.sk-toggleable__label-arrow:before {color: black;}#sk-container-id-8 div.sk-toggleable__content {max-height: 0;max-width: 0;overflow: hidden;text-align: left;background-color: #f0f8ff;}#sk-container-id-8 div.sk-toggleable__content pre {margin: 0.2em;color: black;border-radius: 0.25em;background-color: #f0f8ff;}#sk-container-id-8 input.sk-toggleable__control:checked~div.sk-toggleable__content {max-height: 200px;max-width: 100%;overflow: auto;}#sk-container-id-8 input.sk-toggleable__control:checked~label.sk-toggleable__label-arrow:before {content: \"▾\";}#sk-container-id-8 div.sk-estimator input.sk-toggleable__control:checked~label.sk-toggleable__label {background-color: #d4ebff;}#sk-container-id-8 div.sk-label input.sk-toggleable__control:checked~label.sk-toggleable__label {background-color: #d4ebff;}#sk-container-id-8 input.sk-hidden--visually {border: 0;clip: rect(1px 1px 1px 1px);clip: rect(1px, 1px, 1px, 1px);height: 1px;margin: -1px;overflow: hidden;padding: 0;position: absolute;width: 1px;}#sk-container-id-8 div.sk-estimator {font-family: monospace;background-color: #f0f8ff;border: 1px dotted black;border-radius: 0.25em;box-sizing: border-box;margin-bottom: 0.5em;}#sk-container-id-8 div.sk-estimator:hover {background-color: #d4ebff;}#sk-container-id-8 div.sk-parallel-item::after {content: \"\";width: 100%;border-bottom: 1px solid gray;flex-grow: 1;}#sk-container-id-8 div.sk-label:hover label.sk-toggleable__label {background-color: #d4ebff;}#sk-container-id-8 div.sk-serial::before {content: \"\";position: absolute;border-left: 1px solid gray;box-sizing: border-box;top: 0;bottom: 0;left: 50%;z-index: 0;}#sk-container-id-8 div.sk-serial {display: flex;flex-direction: column;align-items: center;background-color: white;padding-right: 0.2em;padding-left: 0.2em;position: relative;}#sk-container-id-8 div.sk-item {position: relative;z-index: 1;}#sk-container-id-8 div.sk-parallel {display: flex;align-items: stretch;justify-content: center;background-color: white;position: relative;}#sk-container-id-8 div.sk-item::before, #sk-container-id-8 div.sk-parallel-item::before {content: \"\";position: absolute;border-left: 1px solid gray;box-sizing: border-box;top: 0;bottom: 0;left: 50%;z-index: -1;}#sk-container-id-8 div.sk-parallel-item {display: flex;flex-direction: column;z-index: 1;position: relative;background-color: white;}#sk-container-id-8 div.sk-parallel-item:first-child::after {align-self: flex-end;width: 50%;}#sk-container-id-8 div.sk-parallel-item:last-child::after {align-self: flex-start;width: 50%;}#sk-container-id-8 div.sk-parallel-item:only-child::after {width: 0;}#sk-container-id-8 div.sk-dashed-wrapped {border: 1px dashed gray;margin: 0 0.4em 0.5em 0.4em;box-sizing: border-box;padding-bottom: 0.4em;background-color: white;}#sk-container-id-8 div.sk-label label {font-family: monospace;font-weight: bold;display: inline-block;line-height: 1.2em;}#sk-container-id-8 div.sk-label-container {text-align: center;}#sk-container-id-8 div.sk-container {/* jupyter's `normalize.less` sets `[hidden] { display: none; }` but bootstrap.min.css set `[hidden] { display: none !important; }` so we also need the `!important` here to be able to override the default hidden behavior on the sphinx rendered scikit-learn.org. See: https://github.com/scikit-learn/scikit-learn/issues/21755 */display: inline-block !important;position: relative;}#sk-container-id-8 div.sk-text-repr-fallback {display: none;}</style><div id=\"sk-container-id-8\" class=\"sk-top-container\"><div class=\"sk-text-repr-fallback\"><pre>RandomForestRegressor(random_state=0)</pre><b>In a Jupyter environment, please rerun this cell to show the HTML representation or trust the notebook. <br />On GitHub, the HTML representation is unable to render, please try loading this page with nbviewer.org.</b></div><div class=\"sk-container\" hidden><div class=\"sk-item\"><div class=\"sk-estimator sk-toggleable\"><input class=\"sk-toggleable__control sk-hidden--visually\" id=\"sk-estimator-id-8\" type=\"checkbox\" checked><label for=\"sk-estimator-id-8\" class=\"sk-toggleable__label sk-toggleable__label-arrow\">RandomForestRegressor</label><div class=\"sk-toggleable__content\"><pre>RandomForestRegressor(random_state=0)</pre></div></div></div></div></div>"
      ],
      "text/plain": [
       "RandomForestRegressor(random_state=0)"
      ]
     },
     "execution_count": 402,
     "metadata": {},
     "output_type": "execute_result"
    }
   ],
   "source": [
    "from sklearn.ensemble import RandomForestRegressor\n",
    "random_forest_reg = RandomForestRegressor(random_state=0)\n",
    "random_forest_reg.fit(X, Y.values)"
   ]
  },
  {
   "cell_type": "code",
   "execution_count": 403,
   "metadata": {},
   "outputs": [],
   "source": [
    "y_pred = random_forest_reg.predict(X)"
   ]
  },
  {
   "cell_type": "code",
   "execution_count": 404,
   "metadata": {},
   "outputs": [
    {
     "name": "stdout",
     "output_type": "stream",
     "text": [
      "$0.42\n"
     ]
    }
   ],
   "source": [
    "error = np.sqrt(mean_squared_error(Y, y_pred))\n",
    "print(\"${:,.02f}\".format(error))"
   ]
  },
  {
   "cell_type": "code",
   "execution_count": 405,
   "metadata": {},
   "outputs": [
    {
     "data": {
      "text/html": [
       "<div>\n",
       "<style scoped>\n",
       "    .dataframe tbody tr th:only-of-type {\n",
       "        vertical-align: middle;\n",
       "    }\n",
       "\n",
       "    .dataframe tbody tr th {\n",
       "        vertical-align: top;\n",
       "    }\n",
       "\n",
       "    .dataframe thead th {\n",
       "        text-align: right;\n",
       "    }\n",
       "</style>\n",
       "<table border=\"1\" class=\"dataframe\">\n",
       "  <thead>\n",
       "    <tr style=\"text-align: right;\">\n",
       "      <th></th>\n",
       "      <th>Country</th>\n",
       "      <th>EdLevel</th>\n",
       "      <th>YearsCodePro</th>\n",
       "      <th>DB</th>\n",
       "      <th>Language</th>\n",
       "      <th>DevType</th>\n",
       "      <th>Technology</th>\n",
       "    </tr>\n",
       "  </thead>\n",
       "  <tbody>\n",
       "    <tr>\n",
       "      <th>0</th>\n",
       "      <td>4</td>\n",
       "      <td>2</td>\n",
       "      <td>27.0</td>\n",
       "      <td>13</td>\n",
       "      <td>5</td>\n",
       "      <td>11</td>\n",
       "      <td>3</td>\n",
       "    </tr>\n",
       "    <tr>\n",
       "      <th>7</th>\n",
       "      <td>13</td>\n",
       "      <td>0</td>\n",
       "      <td>13.0</td>\n",
       "      <td>13</td>\n",
       "      <td>5</td>\n",
       "      <td>11</td>\n",
       "      <td>7</td>\n",
       "    </tr>\n",
       "    <tr>\n",
       "      <th>9</th>\n",
       "      <td>12</td>\n",
       "      <td>2</td>\n",
       "      <td>4.0</td>\n",
       "      <td>1</td>\n",
       "      <td>5</td>\n",
       "      <td>11</td>\n",
       "      <td>15</td>\n",
       "    </tr>\n",
       "    <tr>\n",
       "      <th>10</th>\n",
       "      <td>12</td>\n",
       "      <td>0</td>\n",
       "      <td>2.0</td>\n",
       "      <td>13</td>\n",
       "      <td>5</td>\n",
       "      <td>11</td>\n",
       "      <td>11</td>\n",
       "    </tr>\n",
       "    <tr>\n",
       "      <th>13</th>\n",
       "      <td>13</td>\n",
       "      <td>1</td>\n",
       "      <td>1.0</td>\n",
       "      <td>13</td>\n",
       "      <td>5</td>\n",
       "      <td>11</td>\n",
       "      <td>11</td>\n",
       "    </tr>\n",
       "    <tr>\n",
       "      <th>...</th>\n",
       "      <td>...</td>\n",
       "      <td>...</td>\n",
       "      <td>...</td>\n",
       "      <td>...</td>\n",
       "      <td>...</td>\n",
       "      <td>...</td>\n",
       "      <td>...</td>\n",
       "    </tr>\n",
       "    <tr>\n",
       "      <th>64416</th>\n",
       "      <td>14</td>\n",
       "      <td>0</td>\n",
       "      <td>3.0</td>\n",
       "      <td>1</td>\n",
       "      <td>5</td>\n",
       "      <td>11</td>\n",
       "      <td>0</td>\n",
       "    </tr>\n",
       "    <tr>\n",
       "      <th>64420</th>\n",
       "      <td>14</td>\n",
       "      <td>0</td>\n",
       "      <td>0.5</td>\n",
       "      <td>13</td>\n",
       "      <td>5</td>\n",
       "      <td>9</td>\n",
       "      <td>13</td>\n",
       "    </tr>\n",
       "    <tr>\n",
       "      <th>64427</th>\n",
       "      <td>1</td>\n",
       "      <td>2</td>\n",
       "      <td>14.0</td>\n",
       "      <td>13</td>\n",
       "      <td>5</td>\n",
       "      <td>11</td>\n",
       "      <td>14</td>\n",
       "    </tr>\n",
       "    <tr>\n",
       "      <th>64429</th>\n",
       "      <td>10</td>\n",
       "      <td>1</td>\n",
       "      <td>1.0</td>\n",
       "      <td>13</td>\n",
       "      <td>5</td>\n",
       "      <td>10</td>\n",
       "      <td>14</td>\n",
       "    </tr>\n",
       "    <tr>\n",
       "      <th>64446</th>\n",
       "      <td>0</td>\n",
       "      <td>1</td>\n",
       "      <td>2.0</td>\n",
       "      <td>6</td>\n",
       "      <td>5</td>\n",
       "      <td>11</td>\n",
       "      <td>14</td>\n",
       "    </tr>\n",
       "  </tbody>\n",
       "</table>\n",
       "<p>28203 rows × 7 columns</p>\n",
       "</div>"
      ],
      "text/plain": [
       "       Country  EdLevel  YearsCodePro  DB  Language  DevType  Technology\n",
       "0            4        2          27.0  13         5       11           3\n",
       "7           13        0          13.0  13         5       11           7\n",
       "9           12        2           4.0   1         5       11          15\n",
       "10          12        0           2.0  13         5       11          11\n",
       "13          13        1           1.0  13         5       11          11\n",
       "...        ...      ...           ...  ..       ...      ...         ...\n",
       "64416       14        0           3.0   1         5       11           0\n",
       "64420       14        0           0.5  13         5        9          13\n",
       "64427        1        2          14.0  13         5       11          14\n",
       "64429       10        1           1.0  13         5       10          14\n",
       "64446        0        1           2.0   6         5       11          14\n",
       "\n",
       "[28203 rows x 7 columns]"
      ]
     },
     "execution_count": 405,
     "metadata": {},
     "output_type": "execute_result"
    }
   ],
   "source": [
    "X"
   ]
  },
  {
   "cell_type": "code",
   "execution_count": 406,
   "metadata": {},
   "outputs": [
    {
     "data": {
      "text/plain": [
       "0        2\n",
       "7        0\n",
       "9        0\n",
       "10       0\n",
       "13       0\n",
       "        ..\n",
       "64416    1\n",
       "64420    0\n",
       "64427    0\n",
       "64429    2\n",
       "64446    2\n",
       "Name: Employment, Length: 28203, dtype: int32"
      ]
     },
     "execution_count": 406,
     "metadata": {},
     "output_type": "execute_result"
    }
   ],
   "source": [
    "Y"
   ]
  },
  {
   "cell_type": "code",
   "execution_count": 407,
   "metadata": {},
   "outputs": [],
   "source": [
    "X = np.array([[\"United States\", \"Master's degree\" , 15, \"MongoDB\", \"C#;HTML/CSS;JavaScript;SQL\", \"Developer, full-stack\", \"Pandas\"]])"
   ]
  },
  {
   "cell_type": "code",
   "execution_count": 408,
   "metadata": {},
   "outputs": [
    {
     "data": {
      "text/plain": [
       "array([['United States', \"Master's degree\", '15', 'MongoDB',\n",
       "        'C#;HTML/CSS;JavaScript;SQL', 'Developer, full-stack', 'Pandas']],\n",
       "      dtype='<U26')"
      ]
     },
     "execution_count": 408,
     "metadata": {},
     "output_type": "execute_result"
    }
   ],
   "source": [
    "X"
   ]
  },
  {
   "cell_type": "code",
   "execution_count": 409,
   "metadata": {},
   "outputs": [
    {
     "data": {
      "text/plain": [
       "array([[13.,  2., 15.,  6.,  1.,  9., 15.]])"
      ]
     },
     "execution_count": 409,
     "metadata": {},
     "output_type": "execute_result"
    }
   ],
   "source": [
    "X[:, 0] = le_country.transform(X[:,0])\n",
    "X[:, 1] = le_education.transform(X[:,1])\n",
    "X[:, 3] = le_db.transform(X[:,3])\n",
    "X[:, 4] = le_language.transform(X[:,4])\n",
    "X[:, 5] = le_dev.transform(X[:,5])\n",
    "X[:, 6] = le_tech.transform(X[:,6])\n",
    "\n",
    "X = X.astype(float)\n",
    "X"
   ]
  },
  {
   "cell_type": "code",
   "execution_count": 410,
   "metadata": {},
   "outputs": [
    {
     "name": "stderr",
     "output_type": "stream",
     "text": [
      "c:\\Users\\muham\\AppData\\Local\\Programs\\Python\\Python311\\Lib\\site-packages\\sklearn\\base.py:439: UserWarning: X does not have valid feature names, but RandomForestRegressor was fitted with feature names\n",
      "  warnings.warn(\n"
     ]
    },
    {
     "data": {
      "text/plain": [
       "array([0.41])"
      ]
     },
     "execution_count": 410,
     "metadata": {},
     "output_type": "execute_result"
    }
   ],
   "source": [
    "y_pred = random_forest_reg.predict(X)\n",
    "y_pred"
   ]
  },
  {
   "cell_type": "code",
   "execution_count": 411,
   "metadata": {},
   "outputs": [
    {
     "name": "stdout",
     "output_type": "stream",
     "text": [
      "Employed full-time\n"
     ]
    }
   ],
   "source": [
    "rounded_prediction = round(y_pred[0])\n",
    "inverse_mapping = {2: 'Not employed', 0: 'Employed full-time', 1: 'Intern'}\n",
    "original_prediction = inverse_mapping[rounded_prediction]\n",
    "\n",
    "print(original_prediction)"
   ]
  },
  {
   "cell_type": "code",
   "execution_count": 412,
   "metadata": {},
   "outputs": [],
   "source": [
    "import pickle"
   ]
  },
  {
   "cell_type": "code",
   "execution_count": 413,
   "metadata": {},
   "outputs": [],
   "source": [
    "data = {\"model\": random_forest_reg, \"le_country\": le_country, \"le_education\": le_education, \"le_db\" : le_db, \"le_language\": le_language, \"le_dev\": le_dev, \"le_tech\": le_tech, \"le_employment\" : le_employment}\n",
    "with open('saved_steps2.pkl', 'wb') as file:\n",
    "    pickle.dump(data, file)"
   ]
  },
  {
   "cell_type": "code",
   "execution_count": 414,
   "metadata": {},
   "outputs": [],
   "source": [
    "with open('saved_steps2.pkl', 'rb') as file:\n",
    "    data = pickle.load(file)\n",
    "regressor_loaded = data[\"model\"]\n",
    "le_country = data[\"le_country\"]\n",
    "le_education = data[\"le_education\"]\n",
    "le_db = data[\"le_db\"]\n",
    "le_language = data[\"le_language\"]\n",
    "le_dev = data[\"le_dev\"]\n",
    "le_tech = data[\"le_tech\"]\n",
    "le_employment = data[\"le_employment\"]"
   ]
  },
  {
   "cell_type": "code",
   "execution_count": 415,
   "metadata": {},
   "outputs": [
    {
     "name": "stderr",
     "output_type": "stream",
     "text": [
      "c:\\Users\\muham\\AppData\\Local\\Programs\\Python\\Python311\\Lib\\site-packages\\sklearn\\base.py:439: UserWarning: X does not have valid feature names, but RandomForestRegressor was fitted with feature names\n",
      "  warnings.warn(\n"
     ]
    },
    {
     "data": {
      "text/plain": [
       "array([0.41])"
      ]
     },
     "execution_count": 415,
     "metadata": {},
     "output_type": "execute_result"
    }
   ],
   "source": [
    "y_pred = regressor_loaded.predict(X)\n",
    "y_pred"
   ]
  },
  {
   "cell_type": "code",
   "execution_count": 416,
   "metadata": {},
   "outputs": [
    {
     "ename": "AttributeError",
     "evalue": "'DataFrame' object has no attribute 'Skills'",
     "output_type": "error",
     "traceback": [
      "\u001b[1;31m---------------------------------------------------------------------------\u001b[0m",
      "\u001b[1;31mAttributeError\u001b[0m                            Traceback (most recent call last)",
      "\u001b[1;32m~\\AppData\\Local\\Temp\\ipykernel_23388\\3791438717.py\u001b[0m in \u001b[0;36m?\u001b[1;34m()\u001b[0m\n\u001b[1;32m----> 1\u001b[1;33m \u001b[0mdf\u001b[0m\u001b[1;33m.\u001b[0m\u001b[0mSkills\u001b[0m\u001b[1;33m.\u001b[0m\u001b[0mvalue_counts\u001b[0m\u001b[1;33m(\u001b[0m\u001b[1;33m)\u001b[0m\u001b[1;33m\u001b[0m\u001b[1;33m\u001b[0m\u001b[0m\n\u001b[0m",
      "\u001b[1;32mc:\\Users\\muham\\AppData\\Local\\Programs\\Python\\Python311\\Lib\\site-packages\\pandas\\core\\generic.py\u001b[0m in \u001b[0;36m?\u001b[1;34m(self, name)\u001b[0m\n\u001b[0;32m   5985\u001b[0m             \u001b[1;32mand\u001b[0m \u001b[0mname\u001b[0m \u001b[1;32mnot\u001b[0m \u001b[1;32min\u001b[0m \u001b[0mself\u001b[0m\u001b[1;33m.\u001b[0m\u001b[0m_accessors\u001b[0m\u001b[1;33m\u001b[0m\u001b[1;33m\u001b[0m\u001b[0m\n\u001b[0;32m   5986\u001b[0m             \u001b[1;32mand\u001b[0m \u001b[0mself\u001b[0m\u001b[1;33m.\u001b[0m\u001b[0m_info_axis\u001b[0m\u001b[1;33m.\u001b[0m\u001b[0m_can_hold_identifiers_and_holds_name\u001b[0m\u001b[1;33m(\u001b[0m\u001b[0mname\u001b[0m\u001b[1;33m)\u001b[0m\u001b[1;33m\u001b[0m\u001b[1;33m\u001b[0m\u001b[0m\n\u001b[0;32m   5987\u001b[0m         ):\n\u001b[0;32m   5988\u001b[0m             \u001b[1;32mreturn\u001b[0m \u001b[0mself\u001b[0m\u001b[1;33m[\u001b[0m\u001b[0mname\u001b[0m\u001b[1;33m]\u001b[0m\u001b[1;33m\u001b[0m\u001b[1;33m\u001b[0m\u001b[0m\n\u001b[1;32m-> 5989\u001b[1;33m         \u001b[1;32mreturn\u001b[0m \u001b[0mobject\u001b[0m\u001b[1;33m.\u001b[0m\u001b[0m__getattribute__\u001b[0m\u001b[1;33m(\u001b[0m\u001b[0mself\u001b[0m\u001b[1;33m,\u001b[0m \u001b[0mname\u001b[0m\u001b[1;33m)\u001b[0m\u001b[1;33m\u001b[0m\u001b[1;33m\u001b[0m\u001b[0m\n\u001b[0m",
      "\u001b[1;31mAttributeError\u001b[0m: 'DataFrame' object has no attribute 'Skills'"
     ]
    }
   ],
   "source": [
    "df.Skills.value_counts()"
   ]
  }
 ],
 "metadata": {
  "kernelspec": {
   "display_name": "Python 3",
   "language": "python",
   "name": "python3"
  },
  "language_info": {
   "codemirror_mode": {
    "name": "ipython",
    "version": 3
   },
   "file_extension": ".py",
   "mimetype": "text/x-python",
   "name": "python",
   "nbconvert_exporter": "python",
   "pygments_lexer": "ipython3",
   "version": "3.11.4"
  }
 },
 "nbformat": 4,
 "nbformat_minor": 2
}
